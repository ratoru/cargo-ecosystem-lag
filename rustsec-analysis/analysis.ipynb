{
 "cells": [
  {
   "cell_type": "markdown",
   "id": "f8c8c90d-c7c5-4d84-ba54-2ec8cfbaa8f1",
   "metadata": {},
   "source": [
    "# Analysis of vulnerabilities in the Rust ecosystem\n",
    "\n",
    "This notebook analyses the prevelance and types of vulnerabilities found in packages published by `Cargo`."
   ]
  },
  {
   "cell_type": "code",
   "execution_count": 35,
   "id": "da8dd4ee-291d-42b6-a9e6-2bdb5562b015",
   "metadata": {},
   "outputs": [],
   "source": [
    "from typing import Union\n",
    "import os\n",
    "import json\n",
    "import pandas as pd\n",
    "import numpy as np\n",
    "import matplotlib.pyplot as plt\n",
    "from cvss import CVSS2, CVSS3 # converts CVSS strings to score"
   ]
  },
  {
   "cell_type": "markdown",
   "id": "1f86bb33-99c1-4e90-95f2-efed98b516da",
   "metadata": {},
   "source": [
    "## Data Aggregation\n",
    "\n",
    "Note: this data was pulled on 10/28/2023."
   ]
  },
  {
   "cell_type": "code",
   "execution_count": 64,
   "id": "f0bb1edb-f57d-4a64-833b-74269cd8919b",
   "metadata": {},
   "outputs": [],
   "source": [
    "def convert_severity(severity) -> int:\n",
    "    \"\"\"Assumes severity is of form {\"type\": ..., \"score\": ... }\"\"\"\n",
    "    if severity[\"type\"] == \"CVSS_V3\":\n",
    "        return CVSS3(severity[\"score\"]).scores()[0]\n",
    "    else:\n",
    "        return CVSS2(severity[\"score\"]).scores()[0]\n",
    "\n",
    "\n",
    "def clean_data(data):\n",
    "    del data[\"aliases\"]\n",
    "    if len(data[\"severity\"]) > 0:\n",
    "        data[\"severity\"] = convert_severity(data[\"severity\"][0])\n",
    "    else:\n",
    "        data[\"severity\"] = None\n",
    "    data_affected = data[\"affected\"][0]\n",
    "    data[\"affected_name\"] = data_affected[\"package\"][\"name\"]\n",
    "    data[\"categories\"] = data_affected[\"database_specific\"][\"categories\"]\n",
    "    data[\"affected_info\"] = data_affected[\"database_specific\"][\"informational\"]\n",
    "    data[\"events\"] = data_affected[\"ranges\"][0][\"events\"]\n",
    "    del data[\"affected\"]\n",
    "\n",
    "    data[\"reference\"] = data[\"references\"][1][\"url\"]\n",
    "    del data[\"references\"]\n",
    "    del data[\"database_specific\"]\n",
    "\n",
    "def json_to_osv(file_path: str) -> Union[pd.DataFrame, None]:\n",
    "    \"\"\"Given a file path to a json file in the OSV format, returns a populated dataframe.\"\"\"\n",
    "    with open(file_path, 'r') as file:\n",
    "        data = json.load(file)\n",
    "    if \"withdrawn\" in data:\n",
    "        return None\n",
    "    clean_data(data)\n",
    "    df = pd.DataFrame.from_dict(data, orient=\"index\").T\n",
    "    df = df.astype({'severity': 'Float32'})\n",
    "    df = df.astype({'summary': 'string'})\n",
    "    df = df.astype({'details': 'string'})\n",
    "    df = df.astype({'affected_name': 'string'})\n",
    "    df = df.astype({'affected_info': 'category'})\n",
    "    return df\n",
    "    "
   ]
  },
  {
   "cell_type": "code",
   "execution_count": 65,
   "id": "b992262e-3ae7-41a1-86a3-35edfa8650d1",
   "metadata": {},
   "outputs": [],
   "source": [
    "# Folder containing RustSec advisories in the OSV format\n",
    "folder_path = './advisory-db-osv/crates/'\n",
    "\n",
    "# Read in all vulnerabilities\n",
    "dataframes = []\n",
    "for filename in os.listdir(folder_path):\n",
    "    if filename.endswith('.json'):\n",
    "        # Construct the full path to the JSON file\n",
    "        file_path = os.path.join(folder_path, filename)\n",
    "        # Read the JSON file into a DataFrame\n",
    "        osv = json_to_osv(file_path)\n",
    "        if osv is not None:\n",
    "            dataframes.append(json_to_osv(file_path))\n",
    "        \n",
    "# Concatenate all DataFrames into a single DataFrame\n",
    "df = pd.concat(dataframes, ignore_index=True)"
   ]
  },
  {
   "cell_type": "markdown",
   "id": "366fa7c8-ca48-493b-a751-799088b1fc32",
   "metadata": {},
   "source": [
    "## Data Analysis\n",
    "\n",
    "### CVSS Scores"
   ]
  },
  {
   "cell_type": "code",
   "execution_count": 71,
   "id": "cdd5c903-5610-4b11-acc6-dd0aeb738c09",
   "metadata": {},
   "outputs": [
    {
     "name": "stdout",
     "output_type": "stream",
     "text": [
      "Number of Vulnerabilities: 548\n",
      "Number of vulnerabilities without score: 283, that's 0.52%.\n"
     ]
    },
    {
     "data": {
      "text/plain": [
       "<Axes: >"
      ]
     },
     "execution_count": 71,
     "metadata": {},
     "output_type": "execute_result"
    },
    {
     "data": {
      "image/png": "[encoded data removed]",
      "text/plain": [
       "<Figure size 640x480 with 1 Axes>"
      ]
     },
     "metadata": {},
     "output_type": "display_data"
    }
   ],
   "source": [
    "print(f\"Number of Vulnerabilities: {df.shape[0]}\")\n",
    "print(f\"Number of vulnerabilities without score: {df['severity'].isna().sum()}, that's {round(df['severity'].isna().sum() / df.shape[0], 2)}%.\")\n",
    "df['severity'].hist(bins=np.linspace(0,10,21))"
   ]
  }
 ],
 "metadata": {
  "kernelspec": {
   "display_name": "Python 3 (ipykernel)",
   "language": "python",
   "name": "python3"
  },
  "language_info": {
   "codemirror_mode": {
    "name": "ipython",
    "version": 3
   },
   "file_extension": ".py",
   "mimetype": "text/x-python",
   "name": "python",
   "nbconvert_exporter": "python",
   "pygments_lexer": "ipython3",
   "version": "3.11.5"
  }
 },
 "nbformat": 4,
 "nbformat_minor": 5
}
